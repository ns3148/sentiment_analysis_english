{
 "cells": [
  {
   "cell_type": "code",
   "execution_count": 50,
   "metadata": {
    "collapsed": true
   },
   "outputs": [],
   "source": [
    "import pandas as pd\n",
    "import numpy as np\n",
    "import time"
   ]
  },
  {
   "cell_type": "code",
   "execution_count": 36,
   "metadata": {
    "collapsed": true
   },
   "outputs": [],
   "source": [
    "df = pd.read_excel(\"data.xlsx\")"
   ]
  },
  {
   "cell_type": "code",
   "execution_count": 37,
   "metadata": {},
   "outputs": [],
   "source": [
    "text = df['reviewText'].tolist()\n",
    "summary = df['summary'].tolist()\n",
    "rating = df['overall'].tolist()\n",
    "\n",
    "num_reviews = len(rating)"
   ]
  },
  {
   "cell_type": "code",
   "execution_count": 38,
   "metadata": {},
   "outputs": [],
   "source": [
    "import apis.aylienapi.aylienapiclient.textapi\n",
    "import apis.alchemyapi.alchemyapi"
   ]
  },
  {
   "cell_type": "code",
   "execution_count": 39,
   "metadata": {},
   "outputs": [],
   "source": [
    "# # ALCHEMY\n",
    "# alchemyapi = apis.alchemyapi.alchemyapi.AlchemyAPI()\n",
    "\n",
    "# AYLIEN\n",
    "aylien = apis.aylienapi.aylienapiclient.textapi.Client(\"4df6473c\", \"f827888e31b6b52f85a6061eb3f18ad1\")\n",
    "\n",
    "# # Textalytics\n",
    "# api = 'http://api.meaningcloud.com/sentiment-2.0'\n",
    "# key = '6c46872fd5bded758034d0e5c6d1cf00'\n",
    "# model = 'general_es' # general_es / general_es / general_fr\n"
   ]
  },
  {
   "cell_type": "code",
   "execution_count": 40,
   "metadata": {
    "collapsed": true
   },
   "outputs": [],
   "source": [
    "def calculate_score(polarity, polarity_conf, r):\n",
    "    if polarity == \"neutral\":\n",
    "        return 3\n",
    "    elif polarity == \"negative\":\n",
    "        if polarity_conf > 0.5:\n",
    "            return 1\n",
    "        return 2\n",
    "    else:\n",
    "        if polarity_conf > 0.5:\n",
    "            return 5\n",
    "        return 4"
   ]
  },
  {
   "cell_type": "code",
   "execution_count": 51,
   "metadata": {},
   "outputs": [
    {
     "name": "stdout",
     "output_type": "stream",
     "text": [
      "0\n",
      "1\n",
      "2\n",
      "3\n",
      "4\n",
      "5\n",
      "6\n",
      "7\n",
      "8\n",
      "9\n",
      "10\n",
      "11\n",
      "12\n",
      "13\n",
      "14\n",
      "15\n",
      "16\n",
      "17\n",
      "18\n",
      "19\n",
      "20\n",
      "21\n",
      "22\n",
      "23\n",
      "24\n",
      "25\n",
      "26\n",
      "27\n",
      "28\n",
      "29\n",
      "30\n"
     ]
    },
    {
     "ename": "HttpError",
     "evalue": "<HttpError 429 when requesting https://api.aylien.com/api/v1/sentiment returned \"\">",
     "output_type": "error",
     "traceback": [
      "\u001b[0;31m---------------------------------------------------------------------------\u001b[0m",
      "\u001b[0;31mHttpError\u001b[0m                                 Traceback (most recent call last)",
      "\u001b[0;32m<ipython-input-51-58f5a3e0686c>\u001b[0m in \u001b[0;36m<module>\u001b[0;34m()\u001b[0m\n\u001b[1;32m     18\u001b[0m         \u001b[0mtext_matrix\u001b[0m\u001b[0;34m[\u001b[0m\u001b[0mr\u001b[0m\u001b[0;34m-\u001b[0m\u001b[0;36m1\u001b[0m\u001b[0;34m]\u001b[0m\u001b[0;34m[\u001b[0m\u001b[0mtext_score\u001b[0m\u001b[0;34m-\u001b[0m\u001b[0;36m1\u001b[0m\u001b[0;34m]\u001b[0m \u001b[0;34m+=\u001b[0m \u001b[0;36m1\u001b[0m\u001b[0;34m\u001b[0m\u001b[0m\n\u001b[1;32m     19\u001b[0m \u001b[0;34m\u001b[0m\u001b[0m\n\u001b[0;32m---> 20\u001b[0;31m         \u001b[0msum_sentiment\u001b[0m \u001b[0;34m=\u001b[0m \u001b[0maylien\u001b[0m\u001b[0;34m.\u001b[0m\u001b[0mSentiment\u001b[0m\u001b[0;34m(\u001b[0m\u001b[0;34m{\u001b[0m\u001b[0;34m'text'\u001b[0m\u001b[0;34m:\u001b[0m \u001b[0ms\u001b[0m\u001b[0;34m}\u001b[0m\u001b[0;34m)\u001b[0m\u001b[0;34m\u001b[0m\u001b[0m\n\u001b[0m\u001b[1;32m     21\u001b[0m         \u001b[0msum_polarity\u001b[0m \u001b[0;34m=\u001b[0m \u001b[0msum_sentiment\u001b[0m\u001b[0;34m[\u001b[0m\u001b[0;34m'polarity'\u001b[0m\u001b[0;34m]\u001b[0m\u001b[0;34m\u001b[0m\u001b[0m\n\u001b[1;32m     22\u001b[0m         \u001b[0msum_polarity_conf\u001b[0m \u001b[0;34m=\u001b[0m \u001b[0msum_sentiment\u001b[0m\u001b[0;34m[\u001b[0m\u001b[0;34m'polarity_confidence'\u001b[0m\u001b[0;34m]\u001b[0m\u001b[0;34m\u001b[0m\u001b[0m\n",
      "\u001b[0;32m/Users/niteshsurtani/columbia/sem3/capstone/sentiment_analysis/apis/aylienapi/aylienapiclient/textapi.py\u001b[0m in \u001b[0;36mSentiment\u001b[0;34m(self, options)\u001b[0m\n\u001b[1;32m    412\u001b[0m       \u001b[0;32mraise\u001b[0m \u001b[0mMissingParameterError\u001b[0m\u001b[0;34m(\u001b[0m\u001b[0;34m'You must either provide url or text'\u001b[0m\u001b[0;34m)\u001b[0m\u001b[0;34m\u001b[0m\u001b[0m\n\u001b[1;32m    413\u001b[0m \u001b[0;34m\u001b[0m\u001b[0m\n\u001b[0;32m--> 414\u001b[0;31m     \u001b[0mresponse\u001b[0m \u001b[0;34m=\u001b[0m \u001b[0mself\u001b[0m\u001b[0;34m.\u001b[0m\u001b[0m_executeRequest\u001b[0m\u001b[0;34m(\u001b[0m\u001b[0;34m'sentiment'\u001b[0m\u001b[0;34m,\u001b[0m \u001b[0moptions\u001b[0m\u001b[0;34m)\u001b[0m\u001b[0;34m\u001b[0m\u001b[0m\n\u001b[0m\u001b[1;32m    415\u001b[0m \u001b[0;34m\u001b[0m\u001b[0m\n\u001b[1;32m    416\u001b[0m     \u001b[0;32mreturn\u001b[0m \u001b[0mresponse\u001b[0m\u001b[0;34m\u001b[0m\u001b[0m\n",
      "\u001b[0;32m/Users/niteshsurtani/columbia/sem3/capstone/sentiment_analysis/apis/aylienapi/aylienapiclient/textapi.py\u001b[0m in \u001b[0;36m_executeRequest\u001b[0;34m(self, endpoint, params)\u001b[0m\n\u001b[1;32m    625\u001b[0m \u001b[0;34m\u001b[0m\u001b[0m\n\u001b[1;32m    626\u001b[0m     \u001b[0;32mif\u001b[0m \u001b[0mresponse\u001b[0m\u001b[0;34m.\u001b[0m\u001b[0mstatus\u001b[0m \u001b[0;34m>=\u001b[0m \u001b[0;36m300\u001b[0m\u001b[0;34m:\u001b[0m\u001b[0;34m\u001b[0m\u001b[0m\n\u001b[0;32m--> 627\u001b[0;31m       \u001b[0;32mraise\u001b[0m \u001b[0mHttpError\u001b[0m\u001b[0;34m(\u001b[0m\u001b[0mresponse\u001b[0m\u001b[0;34m,\u001b[0m \u001b[0mcontent\u001b[0m\u001b[0;34m,\u001b[0m \u001b[0muri\u001b[0m\u001b[0;34m=\u001b[0m\u001b[0mrequest\u001b[0m\u001b[0;34m.\u001b[0m\u001b[0muri\u001b[0m\u001b[0;34m)\u001b[0m\u001b[0;34m\u001b[0m\u001b[0m\n\u001b[0m\u001b[1;32m    628\u001b[0m \u001b[0;34m\u001b[0m\u001b[0m\n\u001b[1;32m    629\u001b[0m     \u001b[0;32mif\u001b[0m \u001b[0msys\u001b[0m\u001b[0;34m.\u001b[0m\u001b[0mversion_info\u001b[0m \u001b[0;34m>=\u001b[0m \u001b[0;34m(\u001b[0m\u001b[0;36m3\u001b[0m\u001b[0;34m,\u001b[0m \u001b[0;36m0\u001b[0m\u001b[0;34m)\u001b[0m\u001b[0;34m:\u001b[0m\u001b[0;34m\u001b[0m\u001b[0m\n",
      "\u001b[0;31mHttpError\u001b[0m: <HttpError 429 when requesting https://api.aylien.com/api/v1/sentiment returned \"\">"
     ]
    }
   ],
   "source": [
    "# AYLIEN\n",
    "text_matrix = np.zeros([5,5])\n",
    "sum_matrix = np.zeros([5,5])\n",
    "\n",
    "while(1):\n",
    "    for i in range(num_reviews):\n",
    "        print(i)\n",
    "        t = text[i]\n",
    "        s = summary[i]\n",
    "        r = int(rating[i])\n",
    "\n",
    "        text_sentiment = aylien.Sentiment({'text': t})\n",
    "    #     print(text_sentiment)\n",
    "        text_polarity = text_sentiment['polarity']\n",
    "        text_polarity_conf = text_sentiment['polarity_confidence']\n",
    "\n",
    "        text_score = calculate_score(text_polarity, text_polarity_conf, r)\n",
    "        text_matrix[r-1][text_score-1] += 1\n",
    "\n",
    "        sum_sentiment = aylien.Sentiment({'text': s})\n",
    "        sum_polarity = sum_sentiment['polarity']\n",
    "        sum_polarity_conf = sum_sentiment['polarity_confidence']\n",
    "\n",
    "        sum_score = calculate_score(sum_polarity, sum_polarity_conf, r)\n",
    "        sum_matrix[r-1][sum_score-1] += 1\n",
    "        \n",
    "        if i%25 == 0:\n",
    "            break\n",
    "\n",
    "    time.sleep(60)\n",
    "    \n",
    "print(text_matrix)\n",
    "print(sum_matrix)"
   ]
  },
  {
   "cell_type": "code",
   "execution_count": null,
   "metadata": {
    "collapsed": true
   },
   "outputs": [],
   "source": []
  }
 ],
 "metadata": {
  "kernelspec": {
   "display_name": "Python 3",
   "language": "python",
   "name": "python3"
  },
  "language_info": {
   "codemirror_mode": {
    "name": "ipython",
    "version": 3
   },
   "file_extension": ".py",
   "mimetype": "text/x-python",
   "name": "python",
   "nbconvert_exporter": "python",
   "pygments_lexer": "ipython3",
   "version": "3.6.1"
  }
 },
 "nbformat": 4,
 "nbformat_minor": 2
}
